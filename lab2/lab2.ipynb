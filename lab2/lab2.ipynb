{
 "cells": [
  {
   "cell_type": "markdown",
   "metadata": {},
   "source": [
    " # Лабораторная работа №2"
   ]
  },
  {
   "cell_type": "markdown",
   "metadata": {},
   "source": [
    "Информация о наборе данных:\n",
    "age: continuous.\n",
    "workclass: Private, Self-emp-not-inc, Self-emp-inc, Federal-gov, Local-gov, State-gov, Without-pay, Never-worked.\n",
    "fnlwgt: continuous.\n",
    "education: Bachelors, Some-college, 11th, HS-grad, Prof-school, Assoc-acdm, Assoc-voc, 9th, 7th-8th, 12th, Masters, 1st-4th, 10th, Doctorate, 5th-6th, Preschool.\n",
    "education-num: continuous.\n",
    "marital-status: Married-civ-spouse, Divorced, Never-married, Separated, Widowed, Married-spouse-absent, Married-AF-spouse.\n",
    "occupation: Tech-support, Craft-repair, Other-service, Sales, Exec-managerial, Prof-specialty, Handlers-cleaners, Machine-op-inspct, Adm-clerical, Farming-fishing, Transport-moving, Priv-house-serv, Protective-serv, Armed-Forces.\n",
    "relationship: Wife, Own-child, Husband, Not-in-family, Other-relative, Unmarried.\n",
    "race: White, Asian-Pac-Islander, Amer-Indian-Eskimo, Other, Black.\n",
    "sex: Female, Male.\n",
    "capital-gain: continuous.\n",
    "capital-loss: continuous.\n",
    "hours-per-week: continuous.\n",
    "native-country: United-States, Cambodia, England, Puerto-Rico, Canada, Germany, Outlying-US(Guam-USVI-etc), India, Japan, Greece, South, China, Cuba, Iran, Honduras, Philippines, Italy, Poland, Jamaica, Vietnam, Mexico, Portugal, Ireland, France, Dominican-Republic, Laos, Ecuador, Taiwan, Haiti, Columbia, Hungary, Guatemala, Nicaragua, Scotland, Thailand, Yugoslavia, El-Salvador, Trinadad&Tobago, Peru, Hong, Holand-Netherlands.\n",
    "salary: >50K,<=50K"
   ]
  },
  {
   "cell_type": "code",
   "execution_count": 3,
   "metadata": {},
   "outputs": [],
   "source": [
    "import numpy as np\n",
    "import pandas as pd\n",
    "pd.set_option('display.max.columns', 100)\n",
    "%matplotlib inline \n",
    "import matplotlib.pyplot as plt\n",
    "import seaborn as sns\n",
    "import warnings\n",
    "warnings.filterwarnings('ignore')"
   ]
  },
  {
   "cell_type": "code",
   "execution_count": 4,
   "metadata": {},
   "outputs": [
    {
     "data": {
      "text/html": [
       "<div>\n",
       "<style scoped>\n",
       "    .dataframe tbody tr th:only-of-type {\n",
       "        vertical-align: middle;\n",
       "    }\n",
       "\n",
       "    .dataframe tbody tr th {\n",
       "        vertical-align: top;\n",
       "    }\n",
       "\n",
       "    .dataframe thead th {\n",
       "        text-align: right;\n",
       "    }\n",
       "</style>\n",
       "<table border=\"1\" class=\"dataframe\">\n",
       "  <thead>\n",
       "    <tr style=\"text-align: right;\">\n",
       "      <th></th>\n",
       "      <th>age</th>\n",
       "      <th>workclass</th>\n",
       "      <th>fnlwgt</th>\n",
       "      <th>education</th>\n",
       "      <th>education-num</th>\n",
       "      <th>marital-status</th>\n",
       "      <th>occupation</th>\n",
       "      <th>relationship</th>\n",
       "      <th>race</th>\n",
       "      <th>sex</th>\n",
       "      <th>capital-gain</th>\n",
       "      <th>capital-loss</th>\n",
       "      <th>hours-per-week</th>\n",
       "      <th>native-country</th>\n",
       "      <th>salary</th>\n",
       "    </tr>\n",
       "  </thead>\n",
       "  <tbody>\n",
       "    <tr>\n",
       "      <th>0</th>\n",
       "      <td>39</td>\n",
       "      <td>State-gov</td>\n",
       "      <td>77516</td>\n",
       "      <td>Bachelors</td>\n",
       "      <td>13</td>\n",
       "      <td>Never-married</td>\n",
       "      <td>Adm-clerical</td>\n",
       "      <td>Not-in-family</td>\n",
       "      <td>White</td>\n",
       "      <td>Male</td>\n",
       "      <td>2174</td>\n",
       "      <td>0</td>\n",
       "      <td>40</td>\n",
       "      <td>United-States</td>\n",
       "      <td>&lt;=50K</td>\n",
       "    </tr>\n",
       "    <tr>\n",
       "      <th>1</th>\n",
       "      <td>50</td>\n",
       "      <td>Self-emp-not-inc</td>\n",
       "      <td>83311</td>\n",
       "      <td>Bachelors</td>\n",
       "      <td>13</td>\n",
       "      <td>Married-civ-spouse</td>\n",
       "      <td>Exec-managerial</td>\n",
       "      <td>Husband</td>\n",
       "      <td>White</td>\n",
       "      <td>Male</td>\n",
       "      <td>0</td>\n",
       "      <td>0</td>\n",
       "      <td>13</td>\n",
       "      <td>United-States</td>\n",
       "      <td>&lt;=50K</td>\n",
       "    </tr>\n",
       "    <tr>\n",
       "      <th>2</th>\n",
       "      <td>38</td>\n",
       "      <td>Private</td>\n",
       "      <td>215646</td>\n",
       "      <td>HS-grad</td>\n",
       "      <td>9</td>\n",
       "      <td>Divorced</td>\n",
       "      <td>Handlers-cleaners</td>\n",
       "      <td>Not-in-family</td>\n",
       "      <td>White</td>\n",
       "      <td>Male</td>\n",
       "      <td>0</td>\n",
       "      <td>0</td>\n",
       "      <td>40</td>\n",
       "      <td>United-States</td>\n",
       "      <td>&lt;=50K</td>\n",
       "    </tr>\n",
       "    <tr>\n",
       "      <th>3</th>\n",
       "      <td>53</td>\n",
       "      <td>Private</td>\n",
       "      <td>234721</td>\n",
       "      <td>11th</td>\n",
       "      <td>7</td>\n",
       "      <td>Married-civ-spouse</td>\n",
       "      <td>Handlers-cleaners</td>\n",
       "      <td>Husband</td>\n",
       "      <td>Black</td>\n",
       "      <td>Male</td>\n",
       "      <td>0</td>\n",
       "      <td>0</td>\n",
       "      <td>40</td>\n",
       "      <td>United-States</td>\n",
       "      <td>&lt;=50K</td>\n",
       "    </tr>\n",
       "    <tr>\n",
       "      <th>4</th>\n",
       "      <td>28</td>\n",
       "      <td>Private</td>\n",
       "      <td>338409</td>\n",
       "      <td>Bachelors</td>\n",
       "      <td>13</td>\n",
       "      <td>Married-civ-spouse</td>\n",
       "      <td>Prof-specialty</td>\n",
       "      <td>Wife</td>\n",
       "      <td>Black</td>\n",
       "      <td>Female</td>\n",
       "      <td>0</td>\n",
       "      <td>0</td>\n",
       "      <td>40</td>\n",
       "      <td>Cuba</td>\n",
       "      <td>&lt;=50K</td>\n",
       "    </tr>\n",
       "  </tbody>\n",
       "</table>\n",
       "</div>"
      ],
      "text/plain": [
       "   age         workclass  fnlwgt  education  education-num  \\\n",
       "0   39         State-gov   77516  Bachelors             13   \n",
       "1   50  Self-emp-not-inc   83311  Bachelors             13   \n",
       "2   38           Private  215646    HS-grad              9   \n",
       "3   53           Private  234721       11th              7   \n",
       "4   28           Private  338409  Bachelors             13   \n",
       "\n",
       "       marital-status         occupation   relationship   race     sex  \\\n",
       "0       Never-married       Adm-clerical  Not-in-family  White    Male   \n",
       "1  Married-civ-spouse    Exec-managerial        Husband  White    Male   \n",
       "2            Divorced  Handlers-cleaners  Not-in-family  White    Male   \n",
       "3  Married-civ-spouse  Handlers-cleaners        Husband  Black    Male   \n",
       "4  Married-civ-spouse     Prof-specialty           Wife  Black  Female   \n",
       "\n",
       "   capital-gain  capital-loss  hours-per-week native-country salary  \n",
       "0          2174             0              40  United-States  <=50K  \n",
       "1             0             0              13  United-States  <=50K  \n",
       "2             0             0              40  United-States  <=50K  \n",
       "3             0             0              40  United-States  <=50K  \n",
       "4             0             0              40           Cuba  <=50K  "
      ]
     },
     "execution_count": 4,
     "metadata": {},
     "output_type": "execute_result"
    }
   ],
   "source": [
    "#Загрузим данные в data и посмотрим вид наборы данных\n",
    "data = pd.read_csv('adult.data.csv')\n",
    "data.head()"
   ]
  },
  {
   "cell_type": "markdown",
   "metadata": {},
   "source": [
    "### 1. Сколько мужчин и женщин представлено в этом наборе данных?\n"
   ]
  },
  {
   "cell_type": "code",
   "execution_count": 5,
   "metadata": {},
   "outputs": [
    {
     "data": {
      "text/plain": [
       "Male      21790\n",
       "Female    10771\n",
       "Name: sex, dtype: int64"
      ]
     },
     "execution_count": 5,
     "metadata": {},
     "output_type": "execute_result"
    }
   ],
   "source": [
    "data['sex'].value_counts()"
   ]
  },
  {
   "cell_type": "markdown",
   "metadata": {},
   "source": [
    "###  2. Каков средний возраст женщины?"
   ]
  },
  {
   "cell_type": "code",
   "execution_count": 6,
   "metadata": {},
   "outputs": [
    {
     "data": {
      "text/plain": [
       "36.85823043357163"
      ]
     },
     "execution_count": 6,
     "metadata": {},
     "output_type": "execute_result"
    }
   ],
   "source": [
    "data.loc[data['sex'] == 'Female', 'age'].mean()"
   ]
  },
  {
   "cell_type": "markdown",
   "metadata": {},
   "source": [
    "###  3. Каков процент граждан Германии (характеристика родной страны)?"
   ]
  },
  {
   "cell_type": "code",
   "execution_count": 7,
   "metadata": {},
   "outputs": [
    {
     "data": {
      "text/plain": [
       "0.42074874850281013"
      ]
     },
     "execution_count": 7,
     "metadata": {},
     "output_type": "execute_result"
    }
   ],
   "source": [
    "(float((data['native-country'] == 'Germany').sum()) / data.shape[0])*100"
   ]
  },
  {
   "cell_type": "markdown",
   "metadata": {},
   "source": [
    "###  4-5. Каково среднее значение и стандартное отклонение возраста для тех, кто зарабатывает более 50 тысяч в год (функция заработной платы) и тех, кто зарабатывает менее 50 тысяч в год?"
   ]
  },
  {
   "cell_type": "code",
   "execution_count": 8,
   "metadata": {},
   "outputs": [
    {
     "name": "stdout",
     "output_type": "stream",
     "text": [
      "Средний возраст для тех, кто зарабатывает более 50 тысяч 44.0\n",
      "Стандартное отклонение возраста для тех, кто зарабатывает более 50 тысяч 10.5\n",
      "Средний возраст для тех, кто зарабатывает менее 50 тысяч 37.0\n",
      "Стандартное отклонение возраста для тех, кто зарабатывает менее 50 тысяч 14.0\n"
     ]
    }
   ],
   "source": [
    "list_of_ages_more_50k = data.loc[data['salary'] == '>50K', 'age']\n",
    "list_of_ages_less_50k = data.loc[data['salary'] == '<=50K', 'age']\n",
    "\n",
    "print('Средний возраст для тех, кто зарабатывает более 50 тысяч', round(list_of_ages_more_50k.mean()))\n",
    "print('Стандартное отклонение возраста для тех, кто зарабатывает более 50 тысяч', round(list_of_ages_more_50k.std(), 1))\n",
    "print('Средний возраст для тех, кто зарабатывает менее 50 тысяч', round(list_of_ages_less_50k.mean()))\n",
    "print('Стандартное отклонение возраста для тех, кто зарабатывает менее 50 тысяч', round(list_of_ages_less_50k.std(), 1))"
   ]
  },
  {
   "cell_type": "markdown",
   "metadata": {},
   "source": [
    "###  6. Правда ли, что люди, которые зарабатывают более 50 тысяч, имеют хотя бы среднее образование? (education – Bachelors, Prof-school, Assoc-acdm, Assoc-voc, Masters or Doctorate feature)"
   ]
  },
  {
   "cell_type": "code",
   "execution_count": 19,
   "metadata": {},
   "outputs": [
    {
     "name": "stdout",
     "output_type": "stream",
     "text": [
      "Не правда\n"
     ]
    }
   ],
   "source": [
    "sample = data.loc[data['salary'] == '>50K', 'education'].unique()\n",
    "check = ['Bachelors', 'Prof-school', 'Assoc-acdm', 'Assoc-voc', 'Masters', 'Doctorate feature']\n",
    "if(sample == check):\n",
    "    print('Правда')\n",
    "else:\n",
    "    print('Не правда')"
   ]
  },
  {
   "cell_type": "markdown",
   "metadata": {},
   "source": [
    "### 7. Отобразите возрастную статистику для каждой расы и каждого пола. Используйте groupby() и describe(). Найти максимальный возраст среди мужчин американо-индийско-эскимосской расы (Amer-Indian-Eskimo race)."
   ]
  },
  {
   "cell_type": "code",
   "execution_count": 30,
   "metadata": {},
   "outputs": [
    {
     "name": "stdout",
     "output_type": "stream",
     "text": [
      "Расса: Amer-Indian-Eskimo , пол: Female\n",
      "count    119.000000\n",
      "mean      37.117647\n",
      "std       13.114991\n",
      "min       17.000000\n",
      "25%       27.000000\n",
      "50%       36.000000\n",
      "75%       46.000000\n",
      "max       80.000000\n",
      "Name: age, dtype: float64\n",
      "\n",
      "Расса: Amer-Indian-Eskimo , пол: Male\n",
      "count    192.000000\n",
      "mean      37.208333\n",
      "std       12.049563\n",
      "min       17.000000\n",
      "25%       28.000000\n",
      "50%       35.000000\n",
      "75%       45.000000\n",
      "max       82.000000\n",
      "Name: age, dtype: float64\n",
      "\n",
      "Расса: Asian-Pac-Islander , пол: Female\n",
      "count    346.000000\n",
      "mean      35.089595\n",
      "std       12.300845\n",
      "min       17.000000\n",
      "25%       25.000000\n",
      "50%       33.000000\n",
      "75%       43.750000\n",
      "max       75.000000\n",
      "Name: age, dtype: float64\n",
      "\n",
      "Расса: Asian-Pac-Islander , пол: Male\n",
      "count    693.000000\n",
      "mean      39.073593\n",
      "std       12.883944\n",
      "min       18.000000\n",
      "25%       29.000000\n",
      "50%       37.000000\n",
      "75%       46.000000\n",
      "max       90.000000\n",
      "Name: age, dtype: float64\n",
      "\n",
      "Расса: Black , пол: Female\n",
      "count    1555.000000\n",
      "mean       37.854019\n",
      "std        12.637197\n",
      "min        17.000000\n",
      "25%        28.000000\n",
      "50%        37.000000\n",
      "75%        46.000000\n",
      "max        90.000000\n",
      "Name: age, dtype: float64\n",
      "\n",
      "Расса: Black , пол: Male\n",
      "count    1569.000000\n",
      "mean       37.682600\n",
      "std        12.882612\n",
      "min        17.000000\n",
      "25%        27.000000\n",
      "50%        36.000000\n",
      "75%        46.000000\n",
      "max        90.000000\n",
      "Name: age, dtype: float64\n",
      "\n",
      "Расса: Other , пол: Female\n",
      "count    109.000000\n",
      "mean      31.678899\n",
      "std       11.631599\n",
      "min       17.000000\n",
      "25%       23.000000\n",
      "50%       29.000000\n",
      "75%       39.000000\n",
      "max       74.000000\n",
      "Name: age, dtype: float64\n",
      "\n",
      "Расса: Other , пол: Male\n",
      "count    162.000000\n",
      "mean      34.654321\n",
      "std       11.355531\n",
      "min       17.000000\n",
      "25%       26.000000\n",
      "50%       32.000000\n",
      "75%       42.000000\n",
      "max       77.000000\n",
      "Name: age, dtype: float64\n",
      "\n",
      "Расса: White , пол: Female\n",
      "count    8642.000000\n",
      "mean       36.811618\n",
      "std        14.329093\n",
      "min        17.000000\n",
      "25%        25.000000\n",
      "50%        35.000000\n",
      "75%        46.000000\n",
      "max        90.000000\n",
      "Name: age, dtype: float64\n",
      "\n",
      "Расса: White , пол: Male\n",
      "count    19174.000000\n",
      "mean        39.652498\n",
      "std         13.436029\n",
      "min         17.000000\n",
      "25%         29.000000\n",
      "50%         38.000000\n",
      "75%         49.000000\n",
      "max         90.000000\n",
      "Name: age, dtype: float64\n",
      "\n",
      "Максимальный возраст среди мужчин американо-индийско-эскимосской расы: 82\n"
     ]
    }
   ],
   "source": [
    "for (race, sex), item in data.groupby(['race', 'sex']):\n",
    "    print('Расса:', race, ', пол:', sex)\n",
    "    print(item['age'].describe())\n",
    "    print()\n",
    "    \n",
    "print('Максимальный возраст среди мужчин американо-индийско-эскимосской расы:', max(data.loc[data['race'] == 'Amer-Indian-Eskimo', 'age']))\n"
   ]
  },
  {
   "cell_type": "markdown",
   "metadata": {},
   "source": [
    "### 8. Среди кого больше доля тех, кто много зарабатывает (> 50 тыс.): в браке или одинокие мужчины? Считается, что в браке находятся те, кто имеет семейное положение, начиная с женатых Married-civ-spouse, Married-spouse-absent or Married-AF-spouse), остальные считаются холостяками."
   ]
  },
  {
   "cell_type": "code",
   "execution_count": 55,
   "metadata": {},
   "outputs": [
    {
     "name": "stdout",
     "output_type": "stream",
     "text": [
      "Среди женатых: 5965\n"
     ]
    }
   ],
   "source": [
    "men = data.loc[(data['sex'] == 'Male')]\n",
    "un_married_men = men.loc[(data['marital-status'].isin(['Never-married', 'Separated', 'Divorced', 'Widowed']))]\n",
    "married_men = men.loc[(data['marital-status'].isin(['Married-civ-spouse', 'Married-spouse-absent', 'Married-AF-spouse']))]\n",
    "\n",
    "un_married_men_more50k = un_married_men.loc[(data['salary'] == '>50K')]\n",
    "un_married_men_less50k = un_married_men.loc[(data['salary'] == '<=50K')]\n",
    "married_men_more50k = married_men .loc[(data['salary'] == '>50K')]\n",
    "married_men_less50k = married_men .loc[(data['salary'] == '<=50K')]\n",
    "\n",
    "if(len(un_married_men_more50k) > len(married_men_more50k)):\n",
    "    print('Среди неженатых:', len(un_married_men_more50k))\n",
    "elif(len(un_married_men_more50k) < len(married_men_more50k)):\n",
    "    print('Среди женатых:', len(married_men_more50k))\n",
    "else:\n",
    "    print('Одинаковое количество:', len(married_men_more50k))"
   ]
  },
  {
   "cell_type": "markdown",
   "metadata": {},
   "source": [
    "### 9. Какое максимальное количество часов работает человек в неделю ? Сколько человек работает такое количество часов, и каков процент тех, кто зарабатывает (> 50 тыс.) среди них?"
   ]
  },
  {
   "cell_type": "code",
   "execution_count": 71,
   "metadata": {},
   "outputs": [
    {
     "name": "stdout",
     "output_type": "stream",
     "text": [
      "Максимальное количество часов работает человек в неделю: 99\n",
      "Количество человек, работающее такое количество часов: 85\n",
      "Каков процент тех, кто зарабатывает (> 50 тыс.) среди них: 29.411764705882355\n"
     ]
    }
   ],
   "source": [
    "max_working_time = max(data['hours-per-week'])\n",
    "max_working_time_list = data.loc[(data['hours-per-week'] == max_working_time)]\n",
    "max_working_time_more50_list = max_working_time_list.loc[(data['salary'] == '>50K')]\n",
    "\n",
    "print('Максимальное количество часов работает человек в неделю:', max_working_time)\n",
    "print('Количество человек, работающее такое количество часов:', len(max_working_time_list))\n",
    "print('Каков процент тех, кто зарабатывает (> 50 тыс.) среди них:', 100 * float((len(max_working_time_more50_list))/(len(max_working_time_list))))"
   ]
  },
  {
   "cell_type": "markdown",
   "metadata": {},
   "source": [
    "### 10. Посчитайте среднее время работы для тех, кто мало и много зарабатывает для каждой страны (родной страны). Что это будет для Японии?"
   ]
  },
  {
   "cell_type": "code",
   "execution_count": 82,
   "metadata": {},
   "outputs": [
    {
     "name": "stdout",
     "output_type": "stream",
     "text": [
      "Страна: ? , Запралата: <=50K , Среднее время работы: 40.16475972540046\n",
      "Страна: ? , Запралата: >50K , Среднее время работы: 45.54794520547945\n",
      "Страна: Cambodia , Запралата: <=50K , Среднее время работы: 41.416666666666664\n",
      "Страна: Cambodia , Запралата: >50K , Среднее время работы: 40.0\n",
      "Страна: Canada , Запралата: <=50K , Среднее время работы: 37.91463414634146\n",
      "Страна: Canada , Запралата: >50K , Среднее время работы: 45.64102564102564\n",
      "Страна: China , Запралата: <=50K , Среднее время работы: 37.38181818181818\n",
      "Страна: China , Запралата: >50K , Среднее время работы: 38.9\n",
      "Страна: Columbia , Запралата: <=50K , Среднее время работы: 38.68421052631579\n",
      "Страна: Columbia , Запралата: >50K , Среднее время работы: 50.0\n",
      "Страна: Cuba , Запралата: <=50K , Среднее время работы: 37.98571428571429\n",
      "Страна: Cuba , Запралата: >50K , Среднее время работы: 42.44\n",
      "Страна: Dominican-Republic , Запралата: <=50K , Среднее время работы: 42.338235294117645\n",
      "Страна: Dominican-Republic , Запралата: >50K , Среднее время работы: 47.0\n",
      "Страна: Ecuador , Запралата: <=50K , Среднее время работы: 38.041666666666664\n",
      "Страна: Ecuador , Запралата: >50K , Среднее время работы: 48.75\n",
      "Страна: El-Salvador , Запралата: <=50K , Среднее время работы: 36.03092783505155\n",
      "Страна: El-Salvador , Запралата: >50K , Среднее время работы: 45.0\n",
      "Страна: England , Запралата: <=50K , Среднее время работы: 40.483333333333334\n",
      "Страна: England , Запралата: >50K , Среднее время работы: 44.53333333333333\n",
      "Страна: France , Запралата: <=50K , Среднее время работы: 41.05882352941177\n",
      "Страна: France , Запралата: >50K , Среднее время работы: 50.75\n",
      "Страна: Germany , Запралата: <=50K , Среднее время работы: 39.13978494623656\n",
      "Страна: Germany , Запралата: >50K , Среднее время работы: 44.97727272727273\n",
      "Страна: Greece , Запралата: <=50K , Среднее время работы: 41.80952380952381\n",
      "Страна: Greece , Запралата: >50K , Среднее время работы: 50.625\n",
      "Страна: Guatemala , Запралата: <=50K , Среднее время работы: 39.36065573770492\n",
      "Страна: Guatemala , Запралата: >50K , Среднее время работы: 36.666666666666664\n",
      "Страна: Haiti , Запралата: <=50K , Среднее время работы: 36.325\n",
      "Страна: Haiti , Запралата: >50K , Среднее время работы: 42.75\n",
      "Страна: Holand-Netherlands , Запралата: <=50K , Среднее время работы: 40.0\n",
      "Страна: Honduras , Запралата: <=50K , Среднее время работы: 34.333333333333336\n",
      "Страна: Honduras , Запралата: >50K , Среднее время работы: 60.0\n",
      "Страна: Hong , Запралата: <=50K , Среднее время работы: 39.142857142857146\n",
      "Страна: Hong , Запралата: >50K , Среднее время работы: 45.0\n",
      "Страна: Hungary , Запралата: <=50K , Среднее время работы: 31.3\n",
      "Страна: Hungary , Запралата: >50K , Среднее время работы: 50.0\n",
      "Страна: India , Запралата: <=50K , Среднее время работы: 38.233333333333334\n",
      "Страна: India , Запралата: >50K , Среднее время работы: 46.475\n",
      "Страна: Iran , Запралата: <=50K , Среднее время работы: 41.44\n",
      "Страна: Iran , Запралата: >50K , Среднее время работы: 47.5\n",
      "Страна: Ireland , Запралата: <=50K , Среднее время работы: 40.94736842105263\n",
      "Страна: Ireland , Запралата: >50K , Среднее время работы: 48.0\n",
      "Страна: Italy , Запралата: <=50K , Среднее время работы: 39.625\n",
      "Страна: Italy , Запралата: >50K , Среднее время работы: 45.4\n",
      "Страна: Jamaica , Запралата: <=50K , Среднее время работы: 38.23943661971831\n",
      "Страна: Jamaica , Запралата: >50K , Среднее время работы: 41.1\n",
      "Страна: Japan , Запралата: <=50K , Среднее время работы: 41.0\n",
      "Страна: Japan , Запралата: >50K , Среднее время работы: 47.958333333333336\n",
      "Страна: Laos , Запралата: <=50K , Среднее время работы: 40.375\n",
      "Страна: Laos , Запралата: >50K , Среднее время работы: 40.0\n",
      "Страна: Mexico , Запралата: <=50K , Среднее время работы: 40.00327868852459\n",
      "Страна: Mexico , Запралата: >50K , Среднее время работы: 46.57575757575758\n",
      "Страна: Nicaragua , Запралата: <=50K , Среднее время работы: 36.09375\n",
      "Страна: Nicaragua , Запралата: >50K , Среднее время работы: 37.5\n",
      "Страна: Outlying-US(Guam-USVI-etc) , Запралата: <=50K , Среднее время работы: 41.857142857142854\n",
      "Страна: Peru , Запралата: <=50K , Среднее время работы: 35.06896551724138\n",
      "Страна: Peru , Запралата: >50K , Среднее время работы: 40.0\n",
      "Страна: Philippines , Запралата: <=50K , Среднее время работы: 38.065693430656935\n",
      "Страна: Philippines , Запралата: >50K , Среднее время работы: 43.032786885245905\n",
      "Страна: Poland , Запралата: <=50K , Среднее время работы: 38.166666666666664\n",
      "Страна: Poland , Запралата: >50K , Среднее время работы: 39.0\n",
      "Страна: Portugal , Запралата: <=50K , Среднее время работы: 41.93939393939394\n",
      "Страна: Portugal , Запралата: >50K , Среднее время работы: 41.5\n",
      "Страна: Puerto-Rico , Запралата: <=50K , Среднее время работы: 38.470588235294116\n",
      "Страна: Puerto-Rico , Запралата: >50K , Среднее время работы: 39.416666666666664\n",
      "Страна: Scotland , Запралата: <=50K , Среднее время работы: 39.44444444444444\n",
      "Страна: Scotland , Запралата: >50K , Среднее время работы: 46.666666666666664\n",
      "Страна: South , Запралата: <=50K , Среднее время работы: 40.15625\n",
      "Страна: South , Запралата: >50K , Среднее время работы: 51.4375\n",
      "Страна: Taiwan , Запралата: <=50K , Среднее время работы: 33.774193548387096\n",
      "Страна: Taiwan , Запралата: >50K , Среднее время работы: 46.8\n",
      "Страна: Thailand , Запралата: <=50K , Среднее время работы: 42.86666666666667\n",
      "Страна: Thailand , Запралата: >50K , Среднее время работы: 58.333333333333336\n",
      "Страна: Trinadad&Tobago , Запралата: <=50K , Среднее время работы: 37.05882352941177\n",
      "Страна: Trinadad&Tobago , Запралата: >50K , Среднее время работы: 40.0\n",
      "Страна: United-States , Запралата: <=50K , Среднее время работы: 38.79912723305605\n",
      "Страна: United-States , Запралата: >50K , Среднее время работы: 45.50536884674383\n",
      "Страна: Vietnam , Запралата: <=50K , Среднее время работы: 37.193548387096776\n",
      "Страна: Vietnam , Запралата: >50K , Среднее время работы: 39.2\n",
      "Страна: Yugoslavia , Запралата: <=50K , Среднее время работы: 41.6\n",
      "Страна: Yugoslavia , Запралата: >50K , Среднее время работы: 49.5\n",
      "\n",
      "Япония, запралата >50K: 47.958333333333336\n",
      "Япония, запралата <=50K: 41.0\n"
     ]
    }
   ],
   "source": [
    "for (country, salary), item in data.groupby(['native-country', 'salary']):\n",
    "    if ((country == 'Japan') and (salary == '>50K')):\n",
    "        japan_more50 = item ['hours-per-week'].mean()\n",
    "    if ((country == 'Japan') and (salary == '<=50K')):\n",
    "        japan_less50 = item ['hours-per-week'].mean()\n",
    "    print('Страна:', country,', Запралата:', salary,', Среднее время работы:', item ['hours-per-week'].mean())\n",
    "    \n",
    "print()\n",
    "print('Япония, запралата >50K:', japan_more50)\n",
    "print('Япония, запралата <=50K:', japan_less50)"
   ]
  }
 ],
 "metadata": {
  "kernelspec": {
   "display_name": "Python 3",
   "language": "python",
   "name": "python3"
  },
  "language_info": {
   "codemirror_mode": {
    "name": "ipython",
    "version": 3
   },
   "file_extension": ".py",
   "mimetype": "text/x-python",
   "name": "python",
   "nbconvert_exporter": "python",
   "pygments_lexer": "ipython3",
   "version": "3.7.5"
  }
 },
 "nbformat": 4,
 "nbformat_minor": 2
}
